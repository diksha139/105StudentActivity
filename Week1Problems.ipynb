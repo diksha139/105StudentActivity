{
  "nbformat": 4,
  "nbformat_minor": 0,
  "metadata": {
    "colab": {
      "provenance": [],
      "authorship_tag": "ABX9TyP7kWHt1kTtZ+prrDAzYTb+",
      "include_colab_link": true
    },
    "kernelspec": {
      "name": "python3",
      "display_name": "Python 3"
    },
    "language_info": {
      "name": "python"
    }
  },
  "cells": [
    {
      "cell_type": "markdown",
      "metadata": {
        "id": "view-in-github",
        "colab_type": "text"
      },
      "source": [
        "<a href=\"https://colab.research.google.com/github/diksha139/105StudentActivity/blob/main/Week1Problems.ipynb\" target=\"_parent\"><img src=\"https://colab.research.google.com/assets/colab-badge.svg\" alt=\"Open In Colab\"/></a>"
      ]
    },
    {
      "cell_type": "code",
      "execution_count": 3,
      "metadata": {
        "colab": {
          "base_uri": "https://localhost:8080/"
        },
        "id": "BhCa5cdwwii0",
        "outputId": "ab80a725-b74b-48c4-b942-261aed2e510a"
      },
      "outputs": [
        {
          "output_type": "stream",
          "name": "stdout",
          "text": [
            "Enter any number: 8\n",
            "Number is Even \n"
          ]
        }
      ],
      "source": [
        "number= int(input(\"Enter any number: \"))\n",
        "if(number % 2 == 0):\n",
        "  print(\"Number is Even \")\n",
        "else:\n",
        "  print(\"Number is odd \")"
      ]
    },
    {
      "cell_type": "code",
      "source": [
        "c= int(input(\"Enter temperature in centigrade: \"))\n",
        "f= (9/5)*c + 32\n",
        "print(\"Temperature in farenheit is : \",f)"
      ],
      "metadata": {
        "colab": {
          "base_uri": "https://localhost:8080/"
        },
        "id": "qNaSWd1FyMu5",
        "outputId": "12afed69-573e-46fa-c05d-416d6e4100c6"
      },
      "execution_count": 5,
      "outputs": [
        {
          "output_type": "stream",
          "name": "stdout",
          "text": [
            "Enter temperature in centigrade: 27\n",
            "Temperature in farenheit is :  80.6\n"
          ]
        }
      ]
    },
    {
      "cell_type": "code",
      "source": [
        "import math\n",
        "a= int(input(\"Enter 1st side of triangle: \"))\n",
        "b= int(input(\"Enter 2nd side of triangle: \"))\n",
        "c= int(input(\"Enter 3rd side of triangle: \"))\n",
        "\n",
        "s = (a+b+c)/2\n",
        "area = math.sqrt(s*(s-a)*(s-b)*(s-c))\n",
        "\n",
        "print(\" Area of triangle is : \",area)"
      ],
      "metadata": {
        "colab": {
          "base_uri": "https://localhost:8080/"
        },
        "id": "DddAj4XJzqR_",
        "outputId": "39b7794a-48f6-4d55-f749-c30bcfb800d5"
      },
      "execution_count": 7,
      "outputs": [
        {
          "output_type": "stream",
          "name": "stdout",
          "text": [
            "Enter 1st side of triangle: 3\n",
            "Enter 2nd side of triangle: 4\n",
            "Enter 3rd side of triangle: 5\n",
            " Area of triangle is :  6.0\n"
          ]
        }
      ]
    },
    {
      "cell_type": "code",
      "source": [
        "list1=[]\n",
        "sum=0\n",
        "while True:\n",
        "  ch= input(\"do you want to enter more numbers to a list?(Y-Yes, N-No) \")\n",
        "  if ch == 'Y':\n",
        "    num=int(input(\"Enter the number: \"))\n",
        "\n",
        "    list1.append(num)\n",
        "    continue\n",
        "  else:\n",
        "    break\n",
        "print(list1)\n",
        "length = len(list1)\n",
        "\n",
        "for num in list1:\n",
        "  sum = sum + num\n",
        "avg = sum/length\n",
        "\n",
        "print(\"average of the list of numbers is : \",avg)"
      ],
      "metadata": {
        "colab": {
          "base_uri": "https://localhost:8080/"
        },
        "id": "wXMHkBm-2vKw",
        "outputId": "6a278251-0467-4ba6-914c-7b2dfff0ac9a"
      },
      "execution_count": 17,
      "outputs": [
        {
          "output_type": "stream",
          "name": "stdout",
          "text": [
            "do you want to enter more numbers to a list?(Y-Yes, N-No) Y\n",
            "Enter the number: 3\n",
            "do you want to enter more numbers to a list?(Y-Yes, N-No) Y\n",
            "Enter the number: 4\n",
            "do you want to enter more numbers to a list?(Y-Yes, N-No) Y\n",
            "Enter the number: 5\n",
            "do you want to enter more numbers to a list?(Y-Yes, N-No) Y\n",
            "Enter the number: 2\n",
            "do you want to enter more numbers to a list?(Y-Yes, N-No) Y\n",
            "Enter the number: 1\n",
            "do you want to enter more numbers to a list?(Y-Yes, N-No) n\n",
            "[3, 4, 5, 2, 1]\n",
            "average of the list of numbers is :  3.0\n"
          ]
        }
      ]
    },
    {
      "cell_type": "code",
      "source": [
        "import math\n",
        "radius= int(input(\"Enter the radius of a circle: \"))\n",
        "circum = 2*(math.pi)*radius\n",
        "area = (math.pi)*radius*radius\n",
        "\n",
        "print(\"Circumference is: \",circum)\n",
        "print(\"Area is : \",area)"
      ],
      "metadata": {
        "colab": {
          "base_uri": "https://localhost:8080/"
        },
        "id": "Do5WWNPt83Fb",
        "outputId": "a48853a4-224a-4bf8-9f0d-8b7c5471e3f3"
      },
      "execution_count": 18,
      "outputs": [
        {
          "output_type": "stream",
          "name": "stdout",
          "text": [
            "Enter the radius of a circle: 5\n",
            "Circumference is:  31.41592653589793\n",
            "Area is :  78.53981633974483\n"
          ]
        }
      ]
    },
    {
      "cell_type": "code",
      "source": [
        "list1 = []\n",
        "\n",
        "num = int(input(\"Enter number of elements in list: \"))\n",
        " \n",
        "for i in range(0, num):\n",
        "    ele = int(input(\"Enter elements: \"))\n",
        "    list1.append(ele)\n",
        "\n",
        "def myMax(list1):\n",
        " \n",
        "   \n",
        "    max = list1[0]\n",
        "\n",
        "    for x in list1:\n",
        "        if x > max:\n",
        "            max = x\n",
        " \n",
        "    return max\n",
        " \n",
        " \n",
        "\n",
        "print(\"Largest element is:\", myMax(list1))"
      ],
      "metadata": {
        "colab": {
          "base_uri": "https://localhost:8080/"
        },
        "id": "Vgb6khC2_vHe",
        "outputId": "f403299a-639c-4c16-93d9-13c85000513c"
      },
      "execution_count": 21,
      "outputs": [
        {
          "output_type": "stream",
          "name": "stdout",
          "text": [
            "Enter number of elements in list: 5\n",
            "Enter elements: 2\n",
            "Enter elements: 34\n",
            "Enter elements: 9\n",
            "Enter elements: 76\n",
            "Enter elements: 54\n",
            "Largest element is: 76\n"
          ]
        }
      ]
    },
    {
      "cell_type": "code",
      "source": [
        "def check(s1, s2):\n",
        "     \n",
        "    # the sorted strings are checked\n",
        "    if(sorted(s1)== sorted(s2)):\n",
        "        print(\"The strings are anagrams.\")\n",
        "    else:\n",
        "        print(\"The strings aren't anagrams.\")        \n",
        "         \n",
        "# driver code \n",
        "s1 =\"listen\"\n",
        "s2 =\"silent\"\n",
        "check(s1, s2)"
      ],
      "metadata": {
        "colab": {
          "base_uri": "https://localhost:8080/"
        },
        "id": "FiyCFnTAK2-Q",
        "outputId": "58d3d351-7735-4b15-ff36-cbeade1fa286"
      },
      "execution_count": 22,
      "outputs": [
        {
          "output_type": "stream",
          "name": "stdout",
          "text": [
            "The strings are anagrams.\n"
          ]
        }
      ]
    },
    {
      "cell_type": "code",
      "source": [
        "def factorial(n):\n",
        "    if n < 0:\n",
        "        return 0\n",
        "    elif n == 0 or n == 1:\n",
        "        return 1\n",
        "    else:\n",
        "        fact = 1\n",
        "        while(n > 1):\n",
        "            fact *= n\n",
        "            n -= 1\n",
        "        return fact\n",
        " \n",
        "# Driver Code\n",
        "num = 5;\n",
        "print(\"Factorial of\",num,\"is\",\n",
        "factorial(num))\n",
        " "
      ],
      "metadata": {
        "colab": {
          "base_uri": "https://localhost:8080/"
        },
        "id": "rffWZ2ncM5eb",
        "outputId": "e773b39d-9790-4ae8-eaaf-9f0556f7357b"
      },
      "execution_count": 23,
      "outputs": [
        {
          "output_type": "stream",
          "name": "stdout",
          "text": [
            "Factorial of 5 is 120\n"
          ]
        }
      ]
    },
    {
      "cell_type": "code",
      "source": [
        "def series(n):\n",
        "    sum = 0\n",
        "    for i in range(1, n+1):\n",
        "        term = ''\n",
        "        for j in range(1, i+1):\n",
        "            term = term + '2'\n",
        "        term = int(term)\n",
        "        sum += term\n",
        "\n",
        "    return sum\n",
        "print(f'\\nThe series: {series(5)}\\n') "
      ],
      "metadata": {
        "colab": {
          "base_uri": "https://localhost:8080/"
        },
        "id": "Mkp0AhHjOUuN",
        "outputId": "80afb742-0e4d-4100-f346-9feef0022a2c"
      },
      "execution_count": 24,
      "outputs": [
        {
          "output_type": "stream",
          "name": "stdout",
          "text": [
            "\n",
            "The series: 24690\n",
            "\n"
          ]
        }
      ]
    },
    {
      "cell_type": "code",
      "source": [
        "print('*************************************************************')\n",
        "print('THE STAR PATTERN\\n')\n",
        "\n",
        "for i in range(1,6):\n",
        "    for j in range(i):\n",
        "        print('* ', end = ' ')\n",
        "    print('\\n')    \n",
        "\n",
        "for i in range(4,0,-1):\n",
        "    for j in range(i):\n",
        "        print('* ', end = ' ')\n",
        "    print('\\n')  "
      ],
      "metadata": {
        "colab": {
          "base_uri": "https://localhost:8080/"
        },
        "id": "w18OIoRWP3Qi",
        "outputId": "f252003c-3bcc-4cca-d696-dcd9a3b45745"
      },
      "execution_count": 25,
      "outputs": [
        {
          "output_type": "stream",
          "name": "stdout",
          "text": [
            "*************************************************************\n",
            "THE STAR PATTERN\n",
            "\n",
            "*  \n",
            "\n",
            "*  *  \n",
            "\n",
            "*  *  *  \n",
            "\n",
            "*  *  *  *  \n",
            "\n",
            "*  *  *  *  *  \n",
            "\n",
            "*  *  *  *  \n",
            "\n",
            "*  *  *  \n",
            "\n",
            "*  *  \n",
            "\n",
            "*  \n",
            "\n"
          ]
        }
      ]
    },
    {
      "cell_type": "markdown",
      "source": [
        "Practice Problems week2\n"
      ],
      "metadata": {
        "id": "ecbfhD2lSdkL"
      }
    },
    {
      "cell_type": "code",
      "source": [
        "list1=[2,3,4,5,6,7,8]\n",
        "\n",
        "size=len(list1)\n",
        "\n",
        "temp= list1[0]\n",
        "list1[0]=list1[size-1]\n",
        "list1[size-1] = temp\n",
        "\n",
        "print(\"New list after interchanging is: \",list1)"
      ],
      "metadata": {
        "colab": {
          "base_uri": "https://localhost:8080/"
        },
        "id": "agouBrYBSdHF",
        "outputId": "063aa69e-5df1-4818-e298-d4d1afcd3b15"
      },
      "execution_count": 26,
      "outputs": [
        {
          "output_type": "stream",
          "name": "stdout",
          "text": [
            "New list after interchanging is:  [8, 3, 4, 5, 6, 7, 2]\n"
          ]
        }
      ]
    },
    {
      "cell_type": "code",
      "source": [
        "a=[18, 52, 23, 41, 32]\n",
        "\n",
        "# smallest number\n",
        "smallest = a[0] if a else None\n",
        "\n",
        "# find smallest\n",
        "for i in a:\n",
        "\tif i<smallest:\n",
        "\t\tsmallest=i\n",
        "\n",
        "print(\"Smallest element is: \", smallest)"
      ],
      "metadata": {
        "colab": {
          "base_uri": "https://localhost:8080/"
        },
        "id": "5EjpC0N0T5fU",
        "outputId": "7aa06b08-1cb5-40d6-b870-57461eaab71c"
      },
      "execution_count": 27,
      "outputs": [
        {
          "output_type": "stream",
          "name": "stdout",
          "text": [
            "Smallest element is:  18\n"
          ]
        }
      ]
    },
    {
      "cell_type": "code",
      "source": [
        "n=\"This is a python language\"\n",
        "#splitting the words in a given string\n",
        "s=n.split(\" \")\n",
        "for i in s:\n",
        "  #checking the length of words\n",
        "  if len(i)%2==0:\n",
        "    print(i)"
      ],
      "metadata": {
        "colab": {
          "base_uri": "https://localhost:8080/"
        },
        "id": "MPyw7rjkT8qS",
        "outputId": "8b3e6f79-e41d-4a14-bbb4-ee16503a143c"
      },
      "execution_count": 29,
      "outputs": [
        {
          "output_type": "stream",
          "name": "stdout",
          "text": [
            "This\n",
            "is\n",
            "python\n",
            "language\n"
          ]
        }
      ]
    },
    {
      "cell_type": "code",
      "source": [
        "# Python3 code to demonstrate working of\n",
        "# Remove nested records\n",
        "# using isinstance() + enumerate() + loop\n",
        "\n",
        "# initialize tuple\n",
        "test_tup = (1, 5, 7, (4, 6), 10)\n",
        "\n",
        "# printing original tuple\n",
        "print(\"The original tuple : \" + str(test_tup))\n",
        "\n",
        "# Remove nested records\n",
        "# using isinstance() + enumerate() + loop\n",
        "res = tuple()\n",
        "for count, ele in enumerate(test_tup):\n",
        "\tif not isinstance(ele, tuple):\n",
        "\t\tres = res + (ele, )\n",
        "\n",
        "# printing result\n",
        "print(\"Elements after removal of nested records : \" + str(res))\n"
      ],
      "metadata": {
        "colab": {
          "base_uri": "https://localhost:8080/"
        },
        "id": "pFw02fMjWZeE",
        "outputId": "b2ef151c-7385-48a0-c286-48a6cb90b10e"
      },
      "execution_count": 30,
      "outputs": [
        {
          "output_type": "stream",
          "name": "stdout",
          "text": [
            "The original tuple : (1, 5, 7, (4, 6), 10)\n",
            "Elements after removal of nested records : (1, 5, 7, 10)\n"
          ]
        }
      ]
    },
    {
      "cell_type": "code",
      "source": [
        "# Python3 code to demonstrate working of\n",
        "# Remove nested records\n",
        "\n",
        "# initialize tuple\n",
        "test_tup = (1, 5, 7, (4, 6), 10)\n",
        "\n",
        "# printing original tuple\n",
        "print(\"The original tuple : \" + str(test_tup))\n",
        "\n",
        "# Remove nested records\n",
        "res=[]\n",
        "for i in test_tup:\n",
        "\tif not type(i) is tuple:\n",
        "\t\tres.append(i)\n",
        "res=tuple(res)\n",
        "# printing result\n",
        "print(\"Elements after removal of nested records : \" + str(res))\n"
      ],
      "metadata": {
        "colab": {
          "base_uri": "https://localhost:8080/"
        },
        "id": "1J5EbPDOWq3y",
        "outputId": "a439e348-82a9-4eed-99c1-d34ed4820417"
      },
      "execution_count": 31,
      "outputs": [
        {
          "output_type": "stream",
          "name": "stdout",
          "text": [
            "The original tuple : (1, 5, 7, (4, 6), 10)\n",
            "Elements after removal of nested records : (1, 5, 7, 10)\n"
          ]
        }
      ]
    },
    {
      "cell_type": "code",
      "source": [
        "random_list = ['A', 'A', 'B', 'C', 'B', 'D', 'D', 'A', 'B']\n",
        "frequency = {}\n",
        "\n",
        "# iterating over the list\n",
        "for item in random_list:\n",
        "   # checking the element in dictionary\n",
        "   if item in frequency:\n",
        "      # incrementing the counr\n",
        "      frequency[item] += 1\n",
        "   else:\n",
        "      # initializing the count\n",
        "      frequency[item] = 1\n",
        "\n",
        "# printing the frequency\n",
        "print(frequency)"
      ],
      "metadata": {
        "colab": {
          "base_uri": "https://localhost:8080/"
        },
        "id": "m0mI8PMpbRYT",
        "outputId": "a3cdf5cf-c3b4-4cf2-ad7c-5cf0f12e40e4"
      },
      "execution_count": 32,
      "outputs": [
        {
          "output_type": "stream",
          "name": "stdout",
          "text": [
            "{'A': 3, 'B': 3, 'C': 1, 'D': 2}\n"
          ]
        }
      ]
    },
    {
      "cell_type": "code",
      "source": [
        "s1={1,9,1,9,4}\n",
        "s2={2,5,6,7,8}\n",
        "common= s1.intersection(s2)\n",
        "if len(common)>=1:\n",
        "  print(\"common element exists\")\n",
        "  print(common)\n",
        "else:\n",
        "  print(\"no common element \")"
      ],
      "metadata": {
        "colab": {
          "base_uri": "https://localhost:8080/"
        },
        "id": "hJMLE77Hcnt8",
        "outputId": "80166ea8-77c2-4771-ba75-40a5569f1685"
      },
      "execution_count": 39,
      "outputs": [
        {
          "output_type": "stream",
          "name": "stdout",
          "text": [
            "no common element \n"
          ]
        }
      ]
    },
    {
      "cell_type": "code",
      "source": [
        "# remove duplicates in string\n",
        "\n",
        "from collections import OrderedDict\n",
        "\n",
        "def remove_duplicate(s):\n",
        "   \n",
        "    dup=\"\"\n",
        "    for i in s:\n",
        "        if(i in dup):\n",
        "            pass\n",
        "        else:\n",
        "            dup=dup+i\n",
        "    print(\"After removing: \",dup)\n",
        "    \n",
        "s=\"stdsrdthw\"\n",
        "print(s)\n",
        "remove_duplicate(s)"
      ],
      "metadata": {
        "colab": {
          "base_uri": "https://localhost:8080/"
        },
        "id": "skm6puvDfkqW",
        "outputId": "b2951ec1-5475-49bf-c878-ed090b4f55de"
      },
      "execution_count": 43,
      "outputs": [
        {
          "output_type": "stream",
          "name": "stdout",
          "text": [
            "stdsrdthw\n",
            "After removing:  stdrhw\n"
          ]
        }
      ]
    },
    {
      "cell_type": "code",
      "source": [
        "# Python code to demonstrate\n",
        "# To Sort and Reverse a String\n",
        "# using list() + sort() + join()\n",
        "\n",
        "# initializing string\n",
        "test_string = \"abcdefghijklmnop\"\n",
        "\n",
        "# printing original string\n",
        "print(\"The original string : \" + str(test_string))\n",
        "\n",
        "# using list() + sort() + join\n",
        "# To Sort and reverse a String\n",
        "temp = list(test_string)\n",
        "temp.sort(reverse = True)\n",
        "res = \"\".join(temp)\n",
        "\t\n",
        "# print result\n",
        "print(\"String after reverse sorting : \" + res)\n"
      ],
      "metadata": {
        "colab": {
          "base_uri": "https://localhost:8080/"
        },
        "id": "Yne2s6Wsh1BT",
        "outputId": "603e74d7-7b3c-42a1-bc46-1dc57b7aed69"
      },
      "execution_count": 45,
      "outputs": [
        {
          "output_type": "stream",
          "name": "stdout",
          "text": [
            "The original string : abcdefghijklmnop\n",
            "String after reverse sorting : ponmlkjihgfedcba\n"
          ]
        }
      ]
    },
    {
      "cell_type": "code",
      "source": [
        "import datetime\n",
        "\n",
        "Current_Date = datetime.datetime.today()\n",
        "print ('Current Date: ' + str(Current_Date))\n",
        "\n",
        "Previous_Date = datetime.datetime.today() - datetime.timedelta(days=1)\n",
        "print ('Previous Date: ' + str(Previous_Date))\n",
        "\n",
        "NextDay_Date = datetime.datetime.today() + datetime.timedelta(days=1)\n",
        "print ('Next Date: ' + str(NextDay_Date))"
      ],
      "metadata": {
        "colab": {
          "base_uri": "https://localhost:8080/"
        },
        "id": "35AXW1-JkCwF",
        "outputId": "4fe78896-375b-4cfb-cddf-7605a11c662e"
      },
      "execution_count": 46,
      "outputs": [
        {
          "output_type": "stream",
          "name": "stdout",
          "text": [
            "Current Date: 2023-01-21 13:41:40.974406\n",
            "Previous Date: 2023-01-20 13:41:40.976518\n",
            "Next Date: 2023-01-22 13:41:40.977205\n"
          ]
        }
      ]
    },
    {
      "cell_type": "code",
      "source": [
        "def mul(**kwargs):\n",
        "  res=1\n",
        "  for i in kwargs.values():\n",
        "    res = res * i\n",
        "  return res\n",
        "\n",
        "mul(a=1,b=9,c=3,d=4)"
      ],
      "metadata": {
        "colab": {
          "base_uri": "https://localhost:8080/"
        },
        "id": "eVQ3bWXOk6nB",
        "outputId": "89a79c1b-3afa-4f96-c2d8-f4756a1c3771"
      },
      "execution_count": 58,
      "outputs": [
        {
          "output_type": "execute_result",
          "data": {
            "text/plain": [
              "108"
            ]
          },
          "metadata": {},
          "execution_count": 58
        }
      ]
    }
  ]
}