{
  "nbformat": 4,
  "nbformat_minor": 0,
  "metadata": {
    "colab": {
      "provenance": [],
      "authorship_tag": "ABX9TyPPO5hLA9WUocyxdWL0ePxh",
      "include_colab_link": true
    },
    "kernelspec": {
      "name": "python3",
      "display_name": "Python 3"
    },
    "language_info": {
      "name": "python"
    }
  },
  "cells": [
    {
      "cell_type": "markdown",
      "metadata": {
        "id": "view-in-github",
        "colab_type": "text"
      },
      "source": [
        "<a href=\"https://colab.research.google.com/github/diksha139/105StudentActivity/blob/main/ArrayOperations.ipynb\" target=\"_parent\"><img src=\"https://colab.research.google.com/assets/colab-badge.svg\" alt=\"Open In Colab\"/></a>"
      ]
    },
    {
      "cell_type": "markdown",
      "source": [
        "**Array Operations**\n",
        "\n",
        "---\n",
        "\n"
      ],
      "metadata": {
        "id": "etdSD6X203Ec"
      }
    },
    {
      "cell_type": "code",
      "execution_count": 6,
      "metadata": {
        "colab": {
          "base_uri": "https://localhost:8080/"
        },
        "id": "EYJ1zVES0v6b",
        "outputId": "6b62c555-4cfd-484e-9e7d-ea68ded6f716"
      },
      "outputs": [
        {
          "output_type": "stream",
          "name": "stdout",
          "text": [
            "[2, 6, 8, 9, -3]\n",
            "[[1, 2, -3], [True, 6, 'hi'], [8, 3, -7]]\n"
          ]
        },
        {
          "output_type": "execute_result",
          "data": {
            "text/plain": [
              "list"
            ]
          },
          "metadata": {},
          "execution_count": 6
        }
      ],
      "source": [
        "list1=[2,6,8,9,-3]\n",
        "\n",
        "print(list1)\n",
        "\n",
        "list2=[[1,2,-3], [True,6,\"hi\"],[8,3,-7]]\n",
        "print(list2)\n",
        "type(list2)\n",
        "\n",
        "\n",
        "\n"
      ]
    },
    {
      "cell_type": "code",
      "source": [
        "import numpy as np\n",
        "\n",
        "arr_2D= np.array([[1,2,3],[2,6,9],[7,9,11]])\n",
        "\n",
        "print(arr_2D)\n",
        "#method1 of accessing the elements\n",
        "arr_2D[2][1]=12\n",
        "print(arr_2D)\n",
        "\n",
        "#method2 of accessing the elements\n",
        "\n",
        "print(arr_2D[1,0])\n",
        "\n",
        "arr_2D[1,0]=20\n",
        "\n",
        "#type(arr_2D)"
      ],
      "metadata": {
        "colab": {
          "base_uri": "https://localhost:8080/"
        },
        "id": "QRdES8g_7hm4",
        "outputId": "28a35fcb-02b3-4aa2-e6e0-b7870688bb00"
      },
      "execution_count": 21,
      "outputs": [
        {
          "output_type": "stream",
          "name": "stdout",
          "text": [
            "[[ 1  2  3]\n",
            " [ 2  6  9]\n",
            " [ 7  9 11]]\n",
            "[[ 1  2  3]\n",
            " [ 2  6  9]\n",
            " [ 7 12 11]]\n",
            "2\n",
            "9\n"
          ]
        }
      ]
    }
  ]
}