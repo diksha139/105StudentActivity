{
  "nbformat": 4,
  "nbformat_minor": 0,
  "metadata": {
    "colab": {
      "provenance": [],
      "collapsed_sections": [],
      "include_colab_link": true
    },
    "kernelspec": {
      "name": "python3",
      "display_name": "Python 3"
    },
    "language_info": {
      "name": "python"
    }
  },
  "cells": [
    {
      "cell_type": "markdown",
      "metadata": {
        "id": "view-in-github",
        "colab_type": "text"
      },
      "source": [
        "<a href=\"https://colab.research.google.com/github/diksha139/105StudentActivity/blob/main/Project127.ipynb\" target=\"_parent\"><img src=\"https://colab.research.google.com/assets/colab-badge.svg\" alt=\"Open In Colab\"/></a>"
      ]
    },
    {
      "cell_type": "code",
      "execution_count": 1,
      "metadata": {
        "id": "PC43O4YXfmoa",
        "colab": {
          "base_uri": "https://localhost:8080/"
        },
        "outputId": "2665a41d-e34c-4207-e587-552a62939d25"
      },
      "outputs": [
        {
          "output_type": "stream",
          "name": "stdout",
          "text": [
            "Cloning into 'Pro-M3-Hurricane-Damage-Dataset'...\n",
            "remote: Enumerating objects: 800, done.\u001b[K\n",
            "remote: Total 800 (delta 0), reused 0 (delta 0), pack-reused 800\u001b[K\n",
            "Receiving objects: 100% (800/800), 2.07 MiB | 4.21 MiB/s, done.\n"
          ]
        }
      ],
      "source": [
        "!git clone https://github.com/procodingclass/Pro-M3-Hurricane-Damage-Dataset"
      ]
    },
    {
      "cell_type": "code",
      "source": [
        "#Training data\n",
        "import tensorflow as tf\n",
        "from tensorflow.keras.preprocessing.image import ImageDataGenerator\n",
        "from tensorflow.keras.preprocessing.image import img_to_array, load_img\n",
        "\n",
        "\n",
        "# Random Data Augmentation(Rescale, Rotation, Flips, Zoom, Shifts) using ImageDataGenerator \n",
        "training_data_generator = ImageDataGenerator(\n",
        "    rescale = 1.0/255,\n",
        "    rotation_range=40,\n",
        "    width_shift_range=0.3,\n",
        "    height_shift_range=0.3,\n",
        "    zoom_range=0.3,\n",
        "    horizontal_flip=True,\n",
        "    vertical_flip=True,\n",
        "    fill_mode='nearest')\n",
        "\n",
        "\n",
        "# Image Directory\n",
        "training_image_directory = \"/content/Pro-M3-Hurricane-Damage-Dataset/train\"\n",
        "\n",
        "# Generate Preprocessed Augmented Data\n",
        "training_augmented_images = training_data_generator.flow_from_directory(\n",
        "    training_image_directory,\n",
        "    target_size=(180,180))"
      ],
      "metadata": {
        "colab": {
          "base_uri": "https://localhost:8080/"
        },
        "id": "tUbEOKzVhYMQ",
        "outputId": "dfe6bd2e-8677-43a1-cfc9-e47bf25d1cc4"
      },
      "execution_count": 2,
      "outputs": [
        {
          "output_type": "stream",
          "name": "stdout",
          "text": [
            "Found 300 images belonging to 2 classes.\n"
          ]
        }
      ]
    },
    {
      "cell_type": "code",
      "source": [
        "#Data validation\n",
        "# Random Data Augmentation(Rescale) using ImageDataGenerator\n",
        "validation_data_generator = ImageDataGenerator(rescale = 1.0/255)\n",
        "\n",
        "# Image Directory\n",
        "validation_image_directory = \"/content/Pro-M3-Hurricane-Damage-Dataset/validate\"\n",
        "\n",
        "# Generate Preprocessed Augmented Data\n",
        "validation_augmented_images = validation_data_generator.flow_from_directory(\n",
        "    validation_image_directory,\n",
        "    target_size=(180,180))"
      ],
      "metadata": {
        "colab": {
          "base_uri": "https://localhost:8080/"
        },
        "id": "os3jEJB7hnvM",
        "outputId": "15ec4854-4568-46f0-a4b4-64d00d9aca8b"
      },
      "execution_count": 3,
      "outputs": [
        {
          "output_type": "stream",
          "name": "stdout",
          "text": [
            "Found 300 images belonging to 2 classes.\n"
          ]
        }
      ]
    },
    {
      "cell_type": "code",
      "source": [
        "#class labels\n",
        "training_augmented_images.class_indices"
      ],
      "metadata": {
        "colab": {
          "base_uri": "https://localhost:8080/"
        },
        "id": "0_DunWIFiEhf",
        "outputId": "3a073e8e-5a86-4c1f-8781-0de83be79c85"
      },
      "execution_count": 4,
      "outputs": [
        {
          "output_type": "execute_result",
          "data": {
            "text/plain": [
              "{'damage': 0, 'no_damage': 1}"
            ]
          },
          "metadata": {},
          "execution_count": 4
        }
      ]
    },
    {
      "cell_type": "code",
      "source": [
        "#Define CNN\n",
        "import tensorflow as tf\n",
        "model = tf.keras.models.Sequential([\n",
        "    \n",
        "    # 1st Convolution & Pooling layer\n",
        "    tf.keras.layers.Conv2D(64, (3,3), activation='relu', input_shape=(180, 180, 3)),\n",
        "    tf.keras.layers.MaxPooling2D(2, 2),\n",
        "\n",
        "    # 2nd Convolution & Pooling layer\n",
        "    tf.keras.layers.Conv2D(64, (3,3), activation='relu'),\n",
        "    tf.keras.layers.MaxPooling2D(2,2),\n",
        "\n",
        "    # 3rd Convolution & Pooling layer\n",
        "    tf.keras.layers.Conv2D(128, (3,3), activation='relu'),\n",
        "    tf.keras.layers.MaxPooling2D(2,2),\n",
        "\n",
        "    # 4th Convolution & Pooling layer\n",
        "    tf.keras.layers.Conv2D(128, (3,3), activation='relu'),\n",
        "    tf.keras.layers.MaxPooling2D(2,2),\n",
        "\n",
        "    # Flatten the results to feed into a Dense Layer\n",
        "    #uncomment the correct code to flatten the results\n",
        "    tf.keras.layers.Flatten(),\n",
        "    #tf.keras.Layers.Flatten(),\n",
        "    #tf.keras.Layers.flatten(),\n",
        "    #tf.Keras.layers.Flatten(),\n",
        "\n",
        "    \n",
        "    tf.keras.layers.Dropout(0.5),\n",
        "\n",
        "    # Classification Layer\n",
        "    tf.keras.layers.Dense(512, activation='relu'),\n",
        "    tf.keras.layers.Dense(2, activation='sigmoid')\n",
        "])"
      ],
      "metadata": {
        "id": "lxxfEvA-iO3M"
      },
      "execution_count": 5,
      "outputs": []
    },
    {
      "cell_type": "code",
      "source": [
        "model.summary()"
      ],
      "metadata": {
        "colab": {
          "base_uri": "https://localhost:8080/"
        },
        "id": "-mPX8Koujp8f",
        "outputId": "377910cc-1d7b-42dc-fd4a-5ce2bc2533ca"
      },
      "execution_count": 6,
      "outputs": [
        {
          "output_type": "stream",
          "name": "stdout",
          "text": [
            "Model: \"sequential\"\n",
            "_________________________________________________________________\n",
            " Layer (type)                Output Shape              Param #   \n",
            "=================================================================\n",
            " conv2d (Conv2D)             (None, 178, 178, 64)      1792      \n",
            "                                                                 \n",
            " max_pooling2d (MaxPooling2D  (None, 89, 89, 64)       0         \n",
            " )                                                               \n",
            "                                                                 \n",
            " conv2d_1 (Conv2D)           (None, 87, 87, 64)        36928     \n",
            "                                                                 \n",
            " max_pooling2d_1 (MaxPooling  (None, 43, 43, 64)       0         \n",
            " 2D)                                                             \n",
            "                                                                 \n",
            " conv2d_2 (Conv2D)           (None, 41, 41, 128)       73856     \n",
            "                                                                 \n",
            " max_pooling2d_2 (MaxPooling  (None, 20, 20, 128)      0         \n",
            " 2D)                                                             \n",
            "                                                                 \n",
            " conv2d_3 (Conv2D)           (None, 18, 18, 128)       147584    \n",
            "                                                                 \n",
            " max_pooling2d_3 (MaxPooling  (None, 9, 9, 128)        0         \n",
            " 2D)                                                             \n",
            "                                                                 \n",
            " flatten (Flatten)           (None, 10368)             0         \n",
            "                                                                 \n",
            " dropout (Dropout)           (None, 10368)             0         \n",
            "                                                                 \n",
            " dense (Dense)               (None, 512)               5308928   \n",
            "                                                                 \n",
            " dense_1 (Dense)             (None, 2)                 1026      \n",
            "                                                                 \n",
            "=================================================================\n",
            "Total params: 5,570,114\n",
            "Trainable params: 5,570,114\n",
            "Non-trainable params: 0\n",
            "_________________________________________________________________\n"
          ]
        }
      ]
    },
    {
      "cell_type": "code",
      "source": [
        "#Compile Model\n",
        "model.compile(loss='binary_crossentropy', optimizer='adam', metrics=['accuracy'])"
      ],
      "metadata": {
        "id": "vH4NmyA6jvmb"
      },
      "execution_count": 7,
      "outputs": []
    },
    {
      "cell_type": "code",
      "source": [
        "#Fit and save\n",
        "#uncomment the correct code to fit and save the model\n",
        "history = model.fit(training_augmented_images, \n",
        "            epochs=20, validation_data = validation_augmented_images, verbose=True)\n",
        "#history = model.fit(validation_augmented_images, \n",
        "            #epochs=20, validation_data = raining_Augmented_images, verbose=False)\n",
        "#history = model.fit(training_Augmented_images, \n",
        "            #epochs=20, validation_data = validation_augmented_images, verbose=true)\n",
        "#history = model.fit(validation_augmented_images, \n",
        "            #epochs=20, validation_data = training_Augmented_images, verbose=False)\n",
        "\n",
        "\n",
        "#model.Save(\"Hurricane_damage.H5\")\n",
        "#model1.save(\"Hurricane_damage.h5\")\n",
        "model.save(\"Hurricane_damage.h5\")\n",
        "#model1.Save(\"Hurricane_damage.H5\")"
      ],
      "metadata": {
        "colab": {
          "base_uri": "https://localhost:8080/"
        },
        "id": "rcsJO70Mj371",
        "outputId": "01d69b17-cdb0-477b-ecd9-8fb2f44c4b17"
      },
      "execution_count": 8,
      "outputs": [
        {
          "output_type": "stream",
          "name": "stdout",
          "text": [
            "Epoch 1/20\n",
            "10/10 [==============================] - 41s 4s/step - loss: 0.6972 - accuracy: 0.4967 - val_loss: 0.6877 - val_accuracy: 0.5000\n",
            "Epoch 2/20\n",
            "10/10 [==============================] - 39s 4s/step - loss: 0.6690 - accuracy: 0.5700 - val_loss: 0.6757 - val_accuracy: 0.7600\n",
            "Epoch 3/20\n",
            "10/10 [==============================] - 38s 4s/step - loss: 0.6473 - accuracy: 0.6167 - val_loss: 0.6791 - val_accuracy: 0.5067\n",
            "Epoch 4/20\n",
            "10/10 [==============================] - 40s 4s/step - loss: 0.5691 - accuracy: 0.6700 - val_loss: 0.6912 - val_accuracy: 0.5500\n",
            "Epoch 5/20\n",
            "10/10 [==============================] - 38s 4s/step - loss: 0.5286 - accuracy: 0.7300 - val_loss: 1.0282 - val_accuracy: 0.5767\n",
            "Epoch 6/20\n",
            "10/10 [==============================] - 38s 4s/step - loss: 0.3939 - accuracy: 0.8400 - val_loss: 1.2635 - val_accuracy: 0.6900\n",
            "Epoch 7/20\n",
            "10/10 [==============================] - 38s 4s/step - loss: 0.3783 - accuracy: 0.8433 - val_loss: 1.0930 - val_accuracy: 0.6267\n",
            "Epoch 8/20\n",
            "10/10 [==============================] - 38s 4s/step - loss: 0.3524 - accuracy: 0.8400 - val_loss: 1.0852 - val_accuracy: 0.6500\n",
            "Epoch 9/20\n",
            "10/10 [==============================] - 40s 4s/step - loss: 0.3608 - accuracy: 0.8400 - val_loss: 1.0536 - val_accuracy: 0.6433\n",
            "Epoch 10/20\n",
            "10/10 [==============================] - 38s 4s/step - loss: 0.2871 - accuracy: 0.8867 - val_loss: 0.8580 - val_accuracy: 0.7633\n",
            "Epoch 11/20\n",
            "10/10 [==============================] - 38s 4s/step - loss: 0.3050 - accuracy: 0.8800 - val_loss: 0.6471 - val_accuracy: 0.7967\n",
            "Epoch 12/20\n",
            "10/10 [==============================] - 38s 4s/step - loss: 0.2694 - accuracy: 0.8900 - val_loss: 1.3729 - val_accuracy: 0.6133\n",
            "Epoch 13/20\n",
            "10/10 [==============================] - 38s 4s/step - loss: 0.2500 - accuracy: 0.9167 - val_loss: 1.0455 - val_accuracy: 0.6967\n",
            "Epoch 14/20\n",
            "10/10 [==============================] - 38s 4s/step - loss: 0.2251 - accuracy: 0.9233 - val_loss: 1.0695 - val_accuracy: 0.7233\n",
            "Epoch 15/20\n",
            "10/10 [==============================] - 39s 4s/step - loss: 0.3115 - accuracy: 0.8667 - val_loss: 1.0608 - val_accuracy: 0.6567\n",
            "Epoch 16/20\n",
            "10/10 [==============================] - 41s 4s/step - loss: 0.2524 - accuracy: 0.8933 - val_loss: 0.9153 - val_accuracy: 0.7400\n",
            "Epoch 17/20\n",
            "10/10 [==============================] - 38s 4s/step - loss: 0.2771 - accuracy: 0.8967 - val_loss: 0.5643 - val_accuracy: 0.7867\n",
            "Epoch 18/20\n",
            "10/10 [==============================] - 38s 4s/step - loss: 0.2904 - accuracy: 0.8900 - val_loss: 1.8670 - val_accuracy: 0.6000\n",
            "Epoch 19/20\n",
            "10/10 [==============================] - 38s 4s/step - loss: 0.2113 - accuracy: 0.9133 - val_loss: 0.8869 - val_accuracy: 0.7567\n",
            "Epoch 20/20\n",
            "10/10 [==============================] - 40s 4s/step - loss: 0.1915 - accuracy: 0.9367 - val_loss: 1.4717 - val_accuracy: 0.7067\n"
          ]
        }
      ]
    }
  ]
}