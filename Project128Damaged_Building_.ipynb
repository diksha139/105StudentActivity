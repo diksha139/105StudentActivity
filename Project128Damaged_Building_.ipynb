{
  "nbformat": 4,
  "nbformat_minor": 0,
  "metadata": {
    "colab": {
      "provenance": [],
      "collapsed_sections": [],
      "include_colab_link": true
    },
    "kernelspec": {
      "name": "python3",
      "display_name": "Python 3"
    },
    "language_info": {
      "name": "python"
    }
  },
  "cells": [
    {
      "cell_type": "markdown",
      "metadata": {
        "id": "view-in-github",
        "colab_type": "text"
      },
      "source": [
        "<a href=\"https://colab.research.google.com/github/diksha139/105StudentActivity/blob/main/Project128Damaged_Building_.ipynb\" target=\"_parent\"><img src=\"https://colab.research.google.com/assets/colab-badge.svg\" alt=\"Open In Colab\"/></a>"
      ]
    },
    {
      "cell_type": "code",
      "execution_count": 2,
      "metadata": {
        "id": "PC43O4YXfmoa",
        "colab": {
          "base_uri": "https://localhost:8080/"
        },
        "outputId": "9780c70e-bb85-4f0f-c6c4-8c66f5a6b22a"
      },
      "outputs": [
        {
          "output_type": "stream",
          "name": "stdout",
          "text": [
            "fatal: destination path 'Pro-M3-Hurricane-Damage-Dataset' already exists and is not an empty directory.\n"
          ]
        }
      ],
      "source": [
        "!git clone https://github.com/procodingclass/Pro-M3-Hurricane-Damage-Dataset"
      ]
    },
    {
      "cell_type": "code",
      "source": [
        "#Training data\n",
        "import tensorflow as tf\n",
        "from tensorflow.keras.preprocessing.image import ImageDataGenerator\n",
        "from tensorflow.keras.preprocessing.image import img_to_array, load_img\n",
        "\n",
        "\n",
        "# Random Data Augmentation(Rescale, Rotation, Flips, Zoom, Shifts) using ImageDataGenerator \n",
        "training_data_generator = ImageDataGenerator(\n",
        "    rescale = 1.0/255,\n",
        "    rotation_range=40,\n",
        "    width_shift_range=0.3,\n",
        "    height_shift_range=0.3,\n",
        "    zoom_range=0.3,\n",
        "    horizontal_flip=True,\n",
        "    vertical_flip=True,\n",
        "    fill_mode='nearest')\n",
        "\n",
        "\n",
        "# Image Directory\n",
        "training_image_directory = \"/content/Pro-M3-Hurricane-Damage-Dataset/train\"\n",
        "\n",
        "# Generate Preprocessed Augmented Data\n",
        "training_augmented_images = training_data_generator.flow_from_directory(\n",
        "    training_image_directory,\n",
        "    target_size=(180,180))"
      ],
      "metadata": {
        "colab": {
          "base_uri": "https://localhost:8080/"
        },
        "id": "tUbEOKzVhYMQ",
        "outputId": "94be8fd8-e769-4903-bbd4-f791a9fbe507"
      },
      "execution_count": 3,
      "outputs": [
        {
          "output_type": "stream",
          "name": "stdout",
          "text": [
            "Found 300 images belonging to 2 classes.\n"
          ]
        }
      ]
    },
    {
      "cell_type": "code",
      "source": [
        "#Data validation\n",
        "# Random Data Augmentation(Rescale) using ImageDataGenerator\n",
        "validation_data_generator = ImageDataGenerator(rescale = 1.0/255)\n",
        "\n",
        "# Image Directory\n",
        "validation_image_directory = \"/content/Pro-M3-Hurricane-Damage-Dataset/validate\"\n",
        "\n",
        "# Generate Preprocessed Augmented Data\n",
        "validation_augmented_images = validation_data_generator.flow_from_directory(\n",
        "    validation_image_directory,\n",
        "    target_size=(180,180))"
      ],
      "metadata": {
        "colab": {
          "base_uri": "https://localhost:8080/"
        },
        "id": "os3jEJB7hnvM",
        "outputId": "7bc81368-69c6-4523-bdba-d85d30a80690"
      },
      "execution_count": 4,
      "outputs": [
        {
          "output_type": "stream",
          "name": "stdout",
          "text": [
            "Found 300 images belonging to 2 classes.\n"
          ]
        }
      ]
    },
    {
      "cell_type": "code",
      "source": [
        "#class labels\n",
        "training_augmented_images.class_indices"
      ],
      "metadata": {
        "colab": {
          "base_uri": "https://localhost:8080/"
        },
        "id": "0_DunWIFiEhf",
        "outputId": "0ddd18cd-1362-45ca-d26f-6c25cd65a784"
      },
      "execution_count": 5,
      "outputs": [
        {
          "output_type": "execute_result",
          "data": {
            "text/plain": [
              "{'damage': 0, 'no_damage': 1}"
            ]
          },
          "metadata": {},
          "execution_count": 5
        }
      ]
    },
    {
      "cell_type": "code",
      "source": [
        "#Define CNN\n",
        "import tensorflow as tf\n",
        "model = tf.keras.models.Sequential([\n",
        "    \n",
        "    # 1st Convolution & Pooling layer\n",
        "    tf.keras.layers.Conv2D(64, (3,3), activation='relu', input_shape=(180, 180, 3)),\n",
        "    tf.keras.layers.MaxPooling2D(2, 2),\n",
        "\n",
        "    # 2nd Convolution & Pooling layer\n",
        "    tf.keras.layers.Conv2D(64, (3,3), activation='relu'),\n",
        "    tf.keras.layers.MaxPooling2D(2,2),\n",
        "\n",
        "    # 3rd Convolution & Pooling layer\n",
        "    tf.keras.layers.Conv2D(128, (3,3), activation='relu'),\n",
        "    tf.keras.layers.MaxPooling2D(2,2),\n",
        "\n",
        "    # 4th Convolution & Pooling layer\n",
        "    tf.keras.layers.Conv2D(128, (3,3), activation='relu'),\n",
        "    tf.keras.layers.MaxPooling2D(2,2),\n",
        "\n",
        "    # Flatten the results to feed into a Dense Layer\n",
        "    tf.keras.layers.Flatten(),\n",
        "    tf.keras.layers.Dropout(0.5),\n",
        "\n",
        "    # Classification Layer\n",
        "    tf.keras.layers.Dense(512, activation='relu'),\n",
        "    tf.keras.layers.Dense(2, activation='sigmoid')\n",
        "])"
      ],
      "metadata": {
        "id": "lxxfEvA-iO3M"
      },
      "execution_count": 6,
      "outputs": []
    },
    {
      "cell_type": "code",
      "source": [
        "model.summary()"
      ],
      "metadata": {
        "colab": {
          "base_uri": "https://localhost:8080/"
        },
        "id": "-mPX8Koujp8f",
        "outputId": "a2f6eaaf-996c-4855-b780-3493971b2f98"
      },
      "execution_count": 7,
      "outputs": [
        {
          "output_type": "stream",
          "name": "stdout",
          "text": [
            "Model: \"sequential\"\n",
            "_________________________________________________________________\n",
            " Layer (type)                Output Shape              Param #   \n",
            "=================================================================\n",
            " conv2d (Conv2D)             (None, 178, 178, 64)      1792      \n",
            "                                                                 \n",
            " max_pooling2d (MaxPooling2D  (None, 89, 89, 64)       0         \n",
            " )                                                               \n",
            "                                                                 \n",
            " conv2d_1 (Conv2D)           (None, 87, 87, 64)        36928     \n",
            "                                                                 \n",
            " max_pooling2d_1 (MaxPooling  (None, 43, 43, 64)       0         \n",
            " 2D)                                                             \n",
            "                                                                 \n",
            " conv2d_2 (Conv2D)           (None, 41, 41, 128)       73856     \n",
            "                                                                 \n",
            " max_pooling2d_2 (MaxPooling  (None, 20, 20, 128)      0         \n",
            " 2D)                                                             \n",
            "                                                                 \n",
            " conv2d_3 (Conv2D)           (None, 18, 18, 128)       147584    \n",
            "                                                                 \n",
            " max_pooling2d_3 (MaxPooling  (None, 9, 9, 128)        0         \n",
            " 2D)                                                             \n",
            "                                                                 \n",
            " flatten (Flatten)           (None, 10368)             0         \n",
            "                                                                 \n",
            " dropout (Dropout)           (None, 10368)             0         \n",
            "                                                                 \n",
            " dense (Dense)               (None, 512)               5308928   \n",
            "                                                                 \n",
            " dense_1 (Dense)             (None, 2)                 1026      \n",
            "                                                                 \n",
            "=================================================================\n",
            "Total params: 5,570,114\n",
            "Trainable params: 5,570,114\n",
            "Non-trainable params: 0\n",
            "_________________________________________________________________\n"
          ]
        }
      ]
    },
    {
      "cell_type": "code",
      "source": [
        "#Compile Model\n",
        "model.compile(loss='binary_crossentropy', optimizer='adam', metrics=['accuracy'])"
      ],
      "metadata": {
        "id": "vH4NmyA6jvmb"
      },
      "execution_count": 8,
      "outputs": []
    },
    {
      "cell_type": "code",
      "source": [
        "history = model.fit(training_augmented_images, epochs=20, \n",
        "                    validation_data = validation_augmented_images, \n",
        "                    verbose=True)\n",
        "\n",
        "model.save(\"Hurricane_damage.h5\")"
      ],
      "metadata": {
        "colab": {
          "base_uri": "https://localhost:8080/"
        },
        "id": "rcsJO70Mj371",
        "outputId": "b7474013-e565-442b-f326-d828250155bd"
      },
      "execution_count": null,
      "outputs": [
        {
          "output_type": "stream",
          "name": "stdout",
          "text": [
            "Epoch 1/20\n",
            "10/10 [==============================] - 41s 4s/step - loss: 0.6899 - accuracy: 0.5033 - val_loss: 0.6921 - val_accuracy: 0.5000\n",
            "Epoch 2/20\n",
            "10/10 [==============================] - 42s 4s/step - loss: 0.6492 - accuracy: 0.5467 - val_loss: 0.6588 - val_accuracy: 0.5533\n",
            "Epoch 3/20\n",
            "10/10 [==============================] - 39s 4s/step - loss: 0.5930 - accuracy: 0.6633 - val_loss: 0.8368 - val_accuracy: 0.6200\n",
            "Epoch 4/20\n",
            "10/10 [==============================] - 39s 4s/step - loss: 0.4874 - accuracy: 0.7733 - val_loss: 1.5231 - val_accuracy: 0.5367\n",
            "Epoch 5/20\n",
            "10/10 [==============================] - 39s 4s/step - loss: 0.5254 - accuracy: 0.7167 - val_loss: 0.5315 - val_accuracy: 0.7467\n",
            "Epoch 6/20\n",
            "10/10 [==============================] - 39s 4s/step - loss: 0.3833 - accuracy: 0.8633 - val_loss: 0.6064 - val_accuracy: 0.7733\n",
            "Epoch 7/20\n",
            "10/10 [==============================] - 40s 4s/step - loss: 0.4065 - accuracy: 0.8233 - val_loss: 1.0383 - val_accuracy: 0.5600\n",
            "Epoch 8/20\n",
            "10/10 [==============================] - 39s 4s/step - loss: 0.2780 - accuracy: 0.8967 - val_loss: 1.0557 - val_accuracy: 0.7433\n",
            "Epoch 9/20\n",
            "10/10 [==============================] - 39s 4s/step - loss: 0.2538 - accuracy: 0.9133 - val_loss: 0.8828 - val_accuracy: 0.7467\n",
            "Epoch 10/20\n",
            "10/10 [==============================] - 39s 4s/step - loss: 0.3408 - accuracy: 0.8400 - val_loss: 1.3848 - val_accuracy: 0.5533\n",
            "Epoch 11/20\n",
            "10/10 [==============================] - 38s 4s/step - loss: 0.4023 - accuracy: 0.8367 - val_loss: 0.9817 - val_accuracy: 0.5700\n",
            "Epoch 12/20\n",
            "10/10 [==============================] - 39s 4s/step - loss: 0.2909 - accuracy: 0.8700 - val_loss: 1.0946 - val_accuracy: 0.7333\n",
            "Epoch 13/20\n",
            "10/10 [==============================] - 40s 4s/step - loss: 0.2536 - accuracy: 0.9067 - val_loss: 1.4261 - val_accuracy: 0.6700\n",
            "Epoch 14/20\n",
            "10/10 [==============================] - 38s 4s/step - loss: 0.2307 - accuracy: 0.9100 - val_loss: 1.6883 - val_accuracy: 0.5833\n",
            "Epoch 15/20\n",
            "10/10 [==============================] - 39s 4s/step - loss: 0.2972 - accuracy: 0.8633 - val_loss: 1.1630 - val_accuracy: 0.7033\n",
            "Epoch 16/20\n",
            "10/10 [==============================] - 38s 4s/step - loss: 0.2823 - accuracy: 0.8933 - val_loss: 1.1439 - val_accuracy: 0.6833\n",
            "Epoch 17/20\n",
            "10/10 [==============================] - 38s 4s/step - loss: 0.2102 - accuracy: 0.9333 - val_loss: 0.7365 - val_accuracy: 0.7900\n",
            "Epoch 18/20\n",
            "10/10 [==============================] - 40s 4s/step - loss: 0.2221 - accuracy: 0.9233 - val_loss: 1.4293 - val_accuracy: 0.6300\n",
            "Epoch 19/20\n",
            "10/10 [==============================] - 41s 4s/step - loss: 0.3375 - accuracy: 0.8700 - val_loss: 0.5564 - val_accuracy: 0.8067\n",
            "Epoch 20/20\n",
            "10/10 [==============================] - ETA: 0s - loss: 0.3528 - accuracy: 0.8233"
          ]
        }
      ]
    },
    {
      "cell_type": "code",
      "source": [
        "training_augmented_images.class_indices"
      ],
      "metadata": {
        "id": "OFPU-wkpj8bv"
      },
      "execution_count": null,
      "outputs": []
    },
    {
      "cell_type": "code",
      "source": [
        "import os\n",
        "import numpy as np\n",
        "\n",
        "from matplotlib import pyplot\n",
        "from matplotlib.image import imread\n",
        "\n",
        "import tensorflow\n",
        "from tensorflow.keras.preprocessing.image import load_img\n",
        "\n",
        "from tensorflow.keras.preprocessing.image import img_to_array\n",
        "\n",
        "# Testing image directory\n",
        "testing_image_directory = '/content/Pro-M3-Hurricane-Damage-Dataset/test/damage'\n",
        "\n",
        "# All image files in the directory\n",
        "img_files = os.listdir(testing_image_directory)    \n",
        "\n",
        "i= 0\n",
        "\n",
        "# Loop through an 9 image files\n",
        "for file in img_files[51:60]:\n",
        "\n",
        "  # full path of the image\n",
        "  img_files_path = os.path.join(testing_image_directory, file)\n",
        "\n",
        "  # load image \n",
        "  img_1 = load_img(img_files_path,target_size=(180, 180))\n",
        "\n",
        "  # convert image to an array\n",
        "  img_2 = img_to_array(img_1)\n",
        "\n",
        "  # increase the dimension\n",
        "  img_3 = np.expand_dims(img_2, axis=0)\n",
        "  \n",
        "  # predict the class of an unseen image\n",
        "  prediction = model.predict(img_3)\n",
        "  # print(prediction)\n",
        "\n",
        "  predict_class = np.argmax(prediction, axis=1)\n",
        "  # print(predict_class)\n",
        "\n",
        "  # plot the image using subplot\n",
        "  pyplot.subplot(3, 3, i+1)\n",
        "  pyplot.imshow(img_2.astype('uint8'))\n",
        "  \n",
        "  # Add title of the plot as predicted class value\n",
        "  pyplot.title(predict_class[0])\n",
        "\n",
        "  # Do not show x and y axis with the image\n",
        "  pyplot.axis('off')\n",
        "\n",
        "  i=i+1\n",
        "\n",
        "pyplot.show()"
      ],
      "metadata": {
        "id": "-U38f_TwqzRZ"
      },
      "execution_count": null,
      "outputs": []
    }
  ]
}