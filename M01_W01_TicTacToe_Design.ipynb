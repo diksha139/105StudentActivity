{
  "cells": [
    {
      "cell_type": "markdown",
      "metadata": {
        "id": "view-in-github",
        "colab_type": "text"
      },
      "source": [
        "<a href=\"https://colab.research.google.com/github/diksha139/105StudentActivity/blob/main/M01_W01_TicTacToe_Design.ipynb\" target=\"_parent\"><img src=\"https://colab.research.google.com/assets/colab-badge.svg\" alt=\"Open In Colab\"/></a>"
      ]
    },
    {
      "cell_type": "markdown",
      "id": "ceb61881",
      "metadata": {
        "id": "ceb61881"
      },
      "source": [
        "<img src=\"http://drive.google.com/uc?export=view&id=1JzM1Jig5KAOCvU4tIf2t66B3gd1uy1rG\" width=500px>\n",
        "\n",
        "Proprietary content. Â© Great Learning. All Rights Reserved. Unauthorized use or distribution prohibited."
      ]
    },
    {
      "cell_type": "markdown",
      "id": "ec58db62",
      "metadata": {
        "id": "ec58db62"
      },
      "source": [
        "### Tic-Tac-Toe Low Level Design using OOP"
      ]
    },
    {
      "cell_type": "markdown",
      "id": "e3afbed7",
      "metadata": {
        "id": "e3afbed7"
      },
      "source": [
        "#### Problem Statement :   \n",
        "Tic-Tac-Tos is a game played between two players.  \n",
        "Each player takes a turn to draw symbol, either an 'X' or an 'O' in a grid of 3 x 3.  \n",
        "A player can draw only one type of figure ('X' or 'O') during the game.  \n",
        "A player who gets 3 of the symbols in a row, column or diagonally wins the game"
      ]
    },
    {
      "cell_type": "markdown",
      "id": "d86a6fb5",
      "metadata": {
        "id": "d86a6fb5"
      },
      "source": [
        "Initially the game board will be like as below:\n",
        "\n",
        "![image.png](attachment:image.png)"
      ]
    },
    {
      "cell_type": "markdown",
      "id": "774c8990",
      "metadata": {
        "id": "774c8990"
      },
      "source": [
        "To play this game using this program each player has to give the cell address, in the form of \"Row\" and \"column\" to mark his/her symbol. For example, when a player mentions **2 1** then a symbol will be put on 3rd row and 2nd column.  \n",
        "\n",
        "![image.png](attachment:image.png)"
      ]
    },
    {
      "cell_type": "markdown",
      "id": "9652e846",
      "metadata": {
        "id": "9652e846"
      },
      "source": [
        "The game ends when all the cells are filled or any one of the player has won the game"
      ]
    },
    {
      "cell_type": "markdown",
      "id": "27fa5193",
      "metadata": {
        "id": "27fa5193"
      },
      "source": [
        "One possible winning situation\n",
        "\n",
        "![image-2.png](attachment:image-2.png)"
      ]
    },
    {
      "cell_type": "markdown",
      "id": "5a790d25",
      "metadata": {
        "id": "5a790d25"
      },
      "source": [
        "Possible draw situation\n",
        "\n",
        "![image.png](attachment:image.png)"
      ]
    },
    {
      "cell_type": "markdown",
      "id": "825d05a7",
      "metadata": {
        "id": "825d05a7"
      },
      "source": [
        "### Implementation using OOP"
      ]
    },
    {
      "cell_type": "code",
      "execution_count": 1,
      "id": "d2de2e7e",
      "metadata": {
        "id": "d2de2e7e"
      },
      "outputs": [],
      "source": [
        "#Defining Player Class\n",
        "class Player:\n",
        "    \n",
        "    #Here we are defining attributes as private so that they wont be accesible outside the Player class\n",
        "    def __init__(self, player_name):\n",
        "        self.__username = player_name\n",
        "        self.__symbol = \"\"\n",
        "    \n",
        "    #Defining getter for username attribute    \n",
        "    @property\n",
        "    def username(self):\n",
        "        return self.__username\n",
        "    \n",
        "    #Defining setter for username attribute\n",
        "    @username.setter\n",
        "    def username(self, name):\n",
        "        self.__username = name\n",
        "\n",
        "    #Defining getter for symbol attribute\n",
        "    @property\n",
        "    def symbol(self):\n",
        "        return self.__symbol\n",
        "    \n",
        "    #Defining setter for symbol attribute\n",
        "    @symbol.setter\n",
        "    def symbol(self, symbol):\n",
        "        self.__symbol = symbol"
      ]
    },
    {
      "cell_type": "code",
      "execution_count": 2,
      "id": "c810afc3",
      "metadata": {
        "id": "c810afc3"
      },
      "outputs": [],
      "source": [
        "p1 = Player(\"Sumit\")"
      ]
    },
    {
      "cell_type": "code",
      "execution_count": 3,
      "id": "66558242",
      "metadata": {
        "colab": {
          "base_uri": "https://localhost:8080/"
        },
        "id": "66558242",
        "outputId": "f29118bb-ac84-4c0c-e90e-464ecf6b9916"
      },
      "outputs": [
        {
          "output_type": "stream",
          "name": "stdout",
          "text": [
            "SC\n"
          ]
        }
      ],
      "source": [
        "p1.username = \"SC\"\n",
        "print(p1.username)"
      ]
    },
    {
      "cell_type": "code",
      "execution_count": 4,
      "id": "f8ab82bf",
      "metadata": {
        "colab": {
          "base_uri": "https://localhost:8080/"
        },
        "id": "f8ab82bf",
        "outputId": "6c202550-fefd-4f4f-9b33-887cfddc0bf4"
      },
      "outputs": [
        {
          "output_type": "execute_result",
          "data": {
            "text/plain": [
              "{'_Player__username': 'SC', '_Player__symbol': 'X'}"
            ]
          },
          "metadata": {},
          "execution_count": 4
        }
      ],
      "source": [
        "p1.symbol = \"X\"\n",
        "p1.__dict__\n",
        "vars(p1)"
      ]
    },
    {
      "cell_type": "code",
      "execution_count": 5,
      "id": "439f4132",
      "metadata": {
        "colab": {
          "base_uri": "https://localhost:8080/",
          "height": 36
        },
        "id": "439f4132",
        "outputId": "e9ad83c4-e686-45ac-b8bf-2b0f784c5071"
      },
      "outputs": [
        {
          "output_type": "execute_result",
          "data": {
            "text/plain": [
              "'X'"
            ],
            "application/vnd.google.colaboratory.intrinsic+json": {
              "type": "string"
            }
          },
          "metadata": {},
          "execution_count": 5
        }
      ],
      "source": [
        "p1.symbol"
      ]
    },
    {
      "cell_type": "code",
      "execution_count": 6,
      "id": "42d581f3",
      "metadata": {
        "id": "42d581f3"
      },
      "outputs": [],
      "source": [
        "#Defining Grid class which is responsible for persisting game state in the grid format        \n",
        "class Grid:\n",
        "    \n",
        "    #grid as private attribute so as to restrict its access outside the class\n",
        "    def __init__(self):\n",
        "        self.__grid = [[\"-\" for y in range(0, 3)] for x in range(0, 3)]\n",
        "    \n",
        "    \n",
        "    #printGrid method for printing the game board state and it has protected so as to make it accessible only to classes in same module    \n",
        "    def __printGrid(self):\n",
        "        for x in range(0, len(self.__grid)):\n",
        "            for y in range(0, len(self.__grid[x])):\n",
        "                print(self.__grid[x][y], end = \" \")\n",
        "            print(\"\")\n",
        "    \n",
        "    #set_value method aims at setting the given character at the given position by x and y and it has protected so as to make it accessible only to classes in same module\n",
        "    def _set_value(self, x, y, value):\n",
        "#         if x>2 or y>2:\n",
        "#             pass\n",
        "        self.__grid[x][y] = value\n",
        "    \n",
        "    #is_valid method is used to check if there are etiher empty cells in the game board for making the next move\n",
        "    def _is_valid(self):\n",
        "        for x in range(0, len(self.__grid)):\n",
        "            for y in range(0, len(self.__grid[x])):\n",
        "                if(self.__grid[x][y] == '-'):\n",
        "                    return True\n",
        "        return False\n",
        "\n",
        "    #is_valid_move method is used to check if the given cell is empty for making the move on it\n",
        "    def _is_valid_move(self, x, y):\n",
        "        if x>2 or y>2:\n",
        "            return False\n",
        "        if(self.__grid[x][y]) == '-':\n",
        "            return True\n",
        "        return False\n",
        "    \n",
        "    #solve method is used to check if after move on the position (x, y), does the player wins or not.\n",
        "    def _solve(self, x, y):\n",
        "        \n",
        "        #horizontal scanning in the same row\n",
        "        state = self.__grid[x][0]\n",
        "        horizontal_count = 1\n",
        "        for col in range(1, len(self.__grid[0])):\n",
        "            if self.__grid[x][col] == '-':\n",
        "                break\n",
        "            \n",
        "            if state!=self.__grid[x][col]:\n",
        "                break\n",
        "            \n",
        "            horizontal_count += 1\n",
        "         \n",
        "        if horizontal_count == 3:\n",
        "            return True  \n",
        "\n",
        "        #vertical scanning in the same column\n",
        "        state = self.__grid[0][y]\n",
        "        vertical_count = 1\n",
        "        for row in range(1, len(self.__grid)):\n",
        "            if self.__grid[row][y] == '-':\n",
        "                break\n",
        "            \n",
        "            if state!=self.__grid[row][y]:\n",
        "                break\n",
        "            \n",
        "            vertical_count += 1\n",
        "            \n",
        "        if vertical_count == 3:\n",
        "            return True\n",
        "            \n",
        "        #diagonals scanning\n",
        "        if(self.__grid[1][1] != '-' and self.__grid[0][0] == self.__grid[1][1] and self.__grid[1][1] == self.__grid[2][2]):\n",
        "            return True\n",
        "        \n",
        "        if(self.__grid[1][1] != '-' and self.__grid[0][2] == self.__grid[1][1] and self.__grid[1][1] == self.__grid[2][0]):\n",
        "            return True\n",
        "        \n",
        "        #no one won\n",
        "        return False"
      ]
    },
    {
      "cell_type": "code",
      "execution_count": 6,
      "id": "eeaed9e8",
      "metadata": {
        "id": "eeaed9e8"
      },
      "outputs": [],
      "source": []
    },
    {
      "cell_type": "code",
      "execution_count": 7,
      "id": "a71571e4",
      "metadata": {
        "id": "a71571e4"
      },
      "outputs": [],
      "source": [
        "#Defining Game class    \n",
        "class Game:\n",
        "    #defining attributes with private access so as to make them accessible onyl in this class\n",
        "    def __init__(self, username1, username2):\n",
        "        self.__playerX = username1\n",
        "        self.__playerO = username2\n",
        "        self.__choice = 'X'\n",
        "        self.__grid = Grid()\n",
        "    \n",
        "    #show_board method is used to print the current state of game board    \n",
        "    def _show_board(self):\n",
        "        self.__grid._Grid__printGrid()\n",
        "    \n",
        "    #play method is used to define the game flow    \n",
        "    def _play(self):\n",
        "        if(not self.__grid._is_valid()):\n",
        "            print(\"Draw\")\n",
        "            return\n",
        "        if(self.__choice == 'X'):\n",
        "            print(f\"Player : {self.__playerX} Move\")\n",
        "            x, y = list(map(int, input(\"Enter cell address using row and column : \").strip().split()))\n",
        "            if(self.__grid._is_valid_move(x, y)):\n",
        "                self.__grid._set_value(x, y, 'X')\n",
        "                self._show_board()\n",
        "                if(self.__grid._solve(x, y)):\n",
        "                    print(f\"Player : {self.__playerX} Wins\")\n",
        "                    return\n",
        "                self.__choice = 'O'\n",
        "                self._play()\n",
        "            else:\n",
        "                print(\"Invalid Move\")\n",
        "                self._play()\n",
        "        \n",
        "        elif(self.__choice == 'O'):\n",
        "            print(f\"Player : {self.__playerO} Move\")\n",
        "            x, y = list(map(int, input(\"Enter cell address using row and column : \").strip().split()))\n",
        "            if(self.__grid._is_valid_move(x, y)):\n",
        "                self.__grid._set_value(x, y, 'O')\n",
        "                self._show_board()\n",
        "                if(self.__grid._solve(x, y)):\n",
        "                    print(f\"Player : {self.__playerO} Wins\")\n",
        "                    return\n",
        "                self.__choice = 'X'\n",
        "                self._play()\n",
        "            else:\n",
        "                print(\"Invalid Move\")\n",
        "                self._play()"
      ]
    },
    {
      "cell_type": "code",
      "execution_count": 8,
      "id": "07338368",
      "metadata": {
        "colab": {
          "base_uri": "https://localhost:8080/"
        },
        "id": "07338368",
        "outputId": "814856b4-0a21-4d4d-e63b-bde481505f64"
      },
      "outputs": [
        {
          "output_type": "stream",
          "name": "stdout",
          "text": [
            "Enter first player name : Diksha\n",
            "Enter second player name : Bhupi\n",
            "- - - \n",
            "- - - \n",
            "- - - \n",
            "Player : Diksha Move\n",
            "Enter cell address using row and column : 0 0\n",
            "X - - \n",
            "- - - \n",
            "- - - \n",
            "Player : Bhupi Move\n",
            "Enter cell address using row and column : 2 0\n",
            "X - - \n",
            "- - - \n",
            "O - - \n",
            "Player : Diksha Move\n",
            "Enter cell address using row and column : 0 1\n",
            "X X - \n",
            "- - - \n",
            "O - - \n",
            "Player : Bhupi Move\n",
            "Enter cell address using row and column : 2 1\n",
            "X X - \n",
            "- - - \n",
            "O O - \n",
            "Player : Diksha Move\n",
            "Enter cell address using row and column : 0 2\n",
            "X X X \n",
            "- - - \n",
            "O O - \n",
            "Player : Diksha Wins\n"
          ]
        }
      ],
      "source": [
        "if __name__ == \"__main__\":\n",
        "    player_x = input(\"Enter first player name : \")\n",
        "    player_o = input(\"Enter second player name : \")\n",
        "    \n",
        "    new_game = Game(player_x, player_o)\n",
        "    new_game._show_board()\n",
        "    new_game._play()"
      ]
    },
    {
      "cell_type": "code",
      "execution_count": 8,
      "id": "f3c819ce",
      "metadata": {
        "id": "f3c819ce"
      },
      "outputs": [],
      "source": []
    },
    {
      "cell_type": "code",
      "execution_count": null,
      "id": "906437f1",
      "metadata": {
        "id": "906437f1"
      },
      "outputs": [],
      "source": [
        "x, y = list(map(int, input(\"Enter cell address using row and column : \").strip().split()))"
      ]
    },
    {
      "cell_type": "code",
      "execution_count": null,
      "id": "c4a62124",
      "metadata": {
        "id": "c4a62124"
      },
      "outputs": [],
      "source": [
        "print(x,y)"
      ]
    },
    {
      "cell_type": "code",
      "execution_count": null,
      "id": "80885c17",
      "metadata": {
        "id": "80885c17"
      },
      "outputs": [],
      "source": [
        "user_input = input(\"Enter cell address using row and column : \")"
      ]
    },
    {
      "cell_type": "code",
      "execution_count": null,
      "id": "985802e1",
      "metadata": {
        "id": "985802e1"
      },
      "outputs": [],
      "source": []
    },
    {
      "cell_type": "code",
      "execution_count": null,
      "id": "54e05666",
      "metadata": {
        "id": "54e05666"
      },
      "outputs": [],
      "source": []
    },
    {
      "cell_type": "code",
      "execution_count": null,
      "id": "6441f13d",
      "metadata": {
        "id": "6441f13d"
      },
      "outputs": [],
      "source": []
    },
    {
      "cell_type": "code",
      "execution_count": null,
      "id": "a687826e",
      "metadata": {
        "id": "a687826e"
      },
      "outputs": [],
      "source": []
    },
    {
      "cell_type": "code",
      "execution_count": null,
      "id": "d2e8d2ce",
      "metadata": {
        "id": "d2e8d2ce"
      },
      "outputs": [],
      "source": []
    },
    {
      "cell_type": "code",
      "execution_count": null,
      "id": "db3797ec",
      "metadata": {
        "id": "db3797ec"
      },
      "outputs": [],
      "source": []
    }
  ],
  "metadata": {
    "kernelspec": {
      "display_name": "Python 3",
      "language": "python",
      "name": "python3"
    },
    "language_info": {
      "codemirror_mode": {
        "name": "ipython",
        "version": 3
      },
      "file_extension": ".py",
      "mimetype": "text/x-python",
      "name": "python",
      "nbconvert_exporter": "python",
      "pygments_lexer": "ipython3",
      "version": "3.8.8"
    },
    "colab": {
      "provenance": [],
      "include_colab_link": true
    }
  },
  "nbformat": 4,
  "nbformat_minor": 5
}